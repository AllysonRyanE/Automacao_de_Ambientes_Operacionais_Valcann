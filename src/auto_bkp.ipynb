{
  "nbformat": 4,
  "nbformat_minor": 0,
  "metadata": {
    "colab": {
      "provenance": []
    },
    "kernelspec": {
      "name": "python3",
      "display_name": "Python 3"
    },
    "language_info": {
      "name": "python"
    }
  },
  "cells": [
    {
      "cell_type": "markdown",
      "source": [
        "**ATENÇÃO: O código abaixo tem propósito explicativo do cenário, para a execução ele deverá ser executado localmente na máquina, a qual inclusive deve possuir as pastas referenciadas.**"
      ],
      "metadata": {
        "id": "Cez84I5EUzzR"
      }
    },
    {
      "cell_type": "code",
      "execution_count": null,
      "metadata": {
        "id": "tpmIQKnbCbs1"
      },
      "outputs": [],
      "source": [
        "import os\n",
        "import datetime\n",
        "import shutil"
      ]
    },
    {
      "cell_type": "markdown",
      "source": [
        "*  Inicialmente, importar as bibliotecas, as quais serão utilizadas. Tais são\n",
        "nativas do Python, facilitando na implantação e execução do ambiente.\n",
        " * A ‘os’ será utilizada para a manipulação dos diretórios;\n",
        " * A datetime traz a tipagens como timestamp e datetime para operar e usufruir de datas e horários;\n",
        " * E por último, a shutil será acionada quando for realizada as cópias, facilitando o processo."
      ],
      "metadata": {
        "id": "5D5uTyXQEGAq"
      }
    },
    {
      "cell_type": "code",
      "source": [
        "\"\"\"A função abaixo ela utiliza-se de metódos da biblioteca 'os' para extrair os metadados de um arquivo especificado através do caminho.\"\"\"\n",
        "\n",
        "\n",
        "def get_metadate(path_local):\n",
        "    stts = os.stat(path_local)\n",
        "    #O metódo stat executa uma extração de uma série de valores e retorna numa grande tupla\n",
        "    name = os.path.basename(path_local)  #Extrai o nome do arquivo\n",
        "    creation_data = datetime.datetime.fromtimestamp(stts.st_ctime)\n",
        "    #Iremos armazenar esses valores convertendo para datetime\n",
        "    modf_data = datetime.datetime.fromtimestamp(stts.st_mtime)\n",
        "    return name, creation_data, modf_data, stts.st_size"
      ],
      "metadata": {
        "id": "UzrUVGzIE27F"
      },
      "execution_count": null,
      "outputs": []
    },
    {
      "cell_type": "markdown",
      "source": [
        "* A função acima é autoexplicativa em finalidade, ela utiliza-se de métodos da biblioteca 'os' para extrair os metadados de um arquivo especificado através do caminho. Usar a função torna o código mais modular e traz manutenibilidade.\n",
        " * Tal caminho é informado através do parâmetro, ela recebe-o como variável local, logo tendo internamente o endereço do arquivo que será trabalhado;\n",
        " * Em seguida, o método stat nos dá quase tudo que queremos, ele executa uma extração de uma série de valores e retorna-os numa grande tupla;\n",
        " * Contudo, é necessário conversões, pois o stat traz informações de data em timestamp, então para melhor leitura e uso os valores serão convertidos para algo menos granular, um datetime.\n",
        " * A função retornará esses valores em uma 4-upla, incluindo também o tamanho vindo da variável stts, do método stat. Poderia ser armazenado esses dados em diversas estruturas como uma 'string' e concatenar para posteriormente dá apenas um write no arquivo criado, mas manipular 'string' é custoso e um único write também poderia criar um gargalo no processo a depender da quantia de arquivos. Outra opção seria criar uma lista como buffer, mas isso remeteria novamente a apenas um único write. Com uma tupla alcança-se um bom meio termo (um write para cada arquivo com todos os metadados solicitados)."
      ],
      "metadata": {
        "id": "oXfP3f2BFisa"
      }
    },
    {
      "cell_type": "code",
      "source": [
        "\"\"\"Definimos as variáveis alvo do processo, ou seja a origem, o destino e a raiz.\"\"\"\n",
        "root = 'home/valcann/'\n",
        "#Caso queira testar localmente com os diretórios dados, talvez seja preciso substituir o valor por apenas 'home/valcann/\n",
        "src = root + 'backupsFrom'\n",
        "dst = root + 'backupsTo'\n",
        "if not os.path.exists(dst):\n",
        "    os.makedirs(dst)"
      ],
      "metadata": {
        "id": "xgxiMfYoGJ3r"
      },
      "execution_count": null,
      "outputs": []
    },
    {
      "cell_type": "markdown",
      "source": [
        "* Para fins de desempenho pode optar-se por definir os caminhos como constantes concatenando com a raiz do diretório que estão ao invés de usar '.join' desnecessariamente;\n",
        "* Será na raiz que o ‘log’ será registrado, a fim de haver auditabilidade desse backup;\n",
        "* Caso não exista o diretório de destino, será criado.\n"
      ],
      "metadata": {
        "id": "1v9ozznbGt7A"
      }
    },
    {
      "cell_type": "code",
      "source": [
        "log_from = os.path.join(root, 'backupsFrom.log')\n",
        "log_to = os.path.join(root, 'backupsTo.log')\n",
        "\n",
        "limit_data = datetime.datetime.now() - datetime.timedelta(days=3)"
      ],
      "metadata": {
        "id": "T22bhMfYG-Wg"
      },
      "execution_count": null,
      "outputs": []
    },
    {
      "cell_type": "markdown",
      "source": [
        "* Mas para os arquivos, a fim de assegurar a formatação correta, ou seja que os caminhos fornecidos para estes tenham a terminação correta, com uma barra (/) por exemplo, evitando problemas de concatenação, opta-se por usar o '.join juntamente com a raiz;\n",
        "* A constante ‘limit_data’ será definida antes do processo, sendo utilizada como critério para remoções e cópias.\n"
      ],
      "metadata": {
        "id": "7WxvcIDFHH2c"
      }
    },
    {
      "cell_type": "code",
      "source": [
        "file_processed = 0\n",
        "file_coppied = 0\n",
        "file_removed = 0"
      ],
      "metadata": {
        "id": "TmJG7ys8Hfer"
      },
      "execution_count": null,
      "outputs": []
    },
    {
      "cell_type": "markdown",
      "source": [
        "* Esses três ‘int’ setados inicialmente em 0 tratam-se de contadores que irão ser utilizados para informar ao usuário ao fim do processo como tal foi concluído, trazendo um feedback."
      ],
      "metadata": {
        "id": "lGRtYspHHgfW"
      }
    },
    {
      "cell_type": "code",
      "source": [
        "with open(log_from, 'w') as reg_from:  #1. Irei listar todos os arquivos detalhadamente que estão na origem.\n",
        "    for path, directories, files in os.walk(src):\n",
        "        \"\"\"Retorna uma 3-pla com o primeiro valor sendo o caminho do arquivo, o segundo sendo os diretórios presentes e o\n",
        "        último uma lista com os arquivos.\"\"\"\n",
        "        for f_current in files:  #Vamos explorar essa lista.\n",
        "            absolute_path = os.path.join(path, f_current)\n",
        "            destination_path = os.path.join(dst, f_current)\n",
        "            metadate_file = get_metadate(absolute_path)  #Metadados.\n",
        "            reg_from.write(f\"Nome: {metadate_file[0]}, Tamanho: {metadate_file[3]} bytes, Criado em: {metadate_file[1]}, Modificado em: {metadate_file[2]}\\n\")\n",
        "            file_processed += 1\n",
        "            \"\"\"2. Acima salvo no arquivo aberto que apesar doa lias como reg_from trata-se do recém-criado 'backupsFrom.log',\n",
        "            faço escrita nele conforme os valores armazenados na tupla 'metadata_file' que contém o retorno da função.\"\"\"\n",
        "            if metadate_file[1] < limit_data:\n",
        "                os.remove(absolute_path)  #3. Apesar de registrar irei remover os mais antigos (respeitando o limite de 3 dias dado).\n",
        "                file_removed += 1\n",
        "            else:  #4. Mas irei fazer cópias no destino apenas daqueles mais recentes.\n",
        "                shutil.copy2(absolute_path, destination_path)\n",
        "                file_coppied += 1\n",
        "                with open(log_to, 'a') as reg_to:\n",
        "                    \"\"\"5. Por fim, na mesmo condicional (arquivos mais recentes), ou seja, tendo sido ele parte do backup,\n",
        "                    irei registar isso em um 'log' para indicar que ele integrou esse processo de cópia.\"\"\"\n",
        "                    reg_to.write(f\"Backup do arquivo feito em {datetime.datetime.now()}:\\n\"\n",
        "                                 f\"Nome: {metadate_file[0]}, Tamanho: {metadate_file[3]} bytes, \"\n",
        "                                 f\"Criado em: {metadate_file[1]}, Modificado em: {metadate_file[2]}\\n\"\n",
        "                                 f\"Copiado para: {destination_path}, Original no: {absolute_path}\\n\" + \"-\" * 35 + \"\\n\")"
      ],
      "metadata": {
        "id": "f1LcUSQUHm5b"
      },
      "execution_count": null,
      "outputs": []
    },
    {
      "cell_type": "markdown",
      "source": [
        "**1. Irá ser listado todos os arquivos detalhadamente que estão na origem neste bloco;**\n",
        "* Utiliza-se 'with' para abrir o arquivo especificado (primeiro parâmetro) com maior segurança e no segundo parâmetro especifica-se o modo, no caso escrita (‘w’), pois irá salvar informações. Por fim, a manipulação será feita utilizando um alias (\"reg_from\") para o arquivo;\n",
        "* O método walk da biblioteca 'os' explora similarmente a uma recursão um diretório recebido como parâmetro,  verificando os arquivos no caminho e em pastas mais internas. Retorna uma 3-pla com o primeiro valor sendo o caminho do arquivo, o segundo sendo os diretórios presentes e o último uma lista com os arquivos, essa será explorando para que cada arquivo seja coletado;\n",
        "* A ‘absolute_path’ (como diz o nome) trata-se do caminho absoluto do arquivo que está sendo analisado;\n",
        "* Antecipadamente cria-se o caminho onde deve ser copiado, o endereço final, de destino;\n",
        "* Usa-se o join para que ser assegurado corretamente a concatenação aqui, incluindo a divisão usada pelo SO (como a '/');\n",
        "\n",
        "**2. Então, salva-se no arquivo aberto, o qual apesar do alias como ‘reg_from’ trata-se do recém-criado 'backupsFrom.log', é realizada a escrita nele conforme os valores armazenados na tupla 'metadata_file' que contém o retorno da função;**\n",
        "\n",
        "**3. Apesar de registrar, será removido os mais antigos (respeitando o limite de 3 dias dado).**\n",
        "\n",
        "**4. Mas as cópias feitas no destino serão apenas daqueles arquivos mais recentes;**\n",
        "\n",
        "* Isso é feito utilizando o método ‘copy2’, o qual além de preservar o payload preserva os metadados;\n",
        "* Utiliza-se o 'a' (append), pois no estado 'w' iria ser sobrescrito o arquivo a cada iteração ao invés de adicionar novas informações;\n",
        "\n",
        "**5. Por fim, na mesmo condicional (arquivos mais recentes), ou seja, tendo sido o arquivo parte do backup, será registrado em um 'log' para indicar que ele integrou esse processo de cópia.**"
      ],
      "metadata": {
        "id": "tyTFfLk8Hx41"
      }
    },
    {
      "cell_type": "code",
      "source": [
        "print(f\"Backup concluido:\\n{file_processed} foram processados.\\n\"\n",
        "      f\"{file_removed} foram removidos conforme as configurações.\\n\"\n",
        "      f\"{file_coppied} foram copiados conforme as configurações.\")"
      ],
      "metadata": {
        "colab": {
          "base_uri": "https://localhost:8080/"
        },
        "id": "2niH4cPMJBbv",
        "outputId": "f38da743-106c-48de-f715-143dce8e42a5"
      },
      "execution_count": null,
      "outputs": [
        {
          "output_type": "stream",
          "name": "stdout",
          "text": [
            "Backup concluido:\n",
            "0 foram processados.\n",
            "0 foram removidos conforme as configurações.\n",
            "0 foram copiados conforme as configurações.\n"
          ]
        }
      ]
    },
    {
      "cell_type": "markdown",
      "source": [
        "* Por fim, é apenas informado o sucesso do processo ao usuário juntamente com informações quantitativas e qualitativas."
      ],
      "metadata": {
        "id": "b4-xHHbxJVh7"
      }
    }
  ]
}